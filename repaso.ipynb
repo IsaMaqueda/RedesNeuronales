{
  "nbformat": 4,
  "nbformat_minor": 0,
  "metadata": {
    "colab": {
      "name": "repaso.ipynb",
      "provenance": [],
      "collapsed_sections": [],
      "authorship_tag": "ABX9TyMhoPmLH8Uw5s7lEJVQ6X3m",
      "include_colab_link": true
    },
    "kernelspec": {
      "name": "python3",
      "display_name": "Python 3"
    },
    "language_info": {
      "name": "python"
    }
  },
  "cells": [
    {
      "cell_type": "markdown",
      "metadata": {
        "id": "view-in-github",
        "colab_type": "text"
      },
      "source": [
        "<a href=\"https://colab.research.google.com/github/IsaMaqueda/RedesNeuronales/blob/main/repaso.ipynb\" target=\"_parent\"><img src=\"https://colab.research.google.com/assets/colab-badge.svg\" alt=\"Open In Colab\"/></a>"
      ]
    },
    {
      "cell_type": "code",
      "metadata": {
        "id": "uizzf7-O0qpk"
      },
      "source": [
        "import string \n",
        "import math\n",
        "import random\n"
      ],
      "execution_count": null,
      "outputs": []
    },
    {
      "cell_type": "markdown",
      "metadata": {
        "id": "n6X0Mm8OyTHQ"
      },
      "source": [
        "## 1. \n",
        "Escribe un programa que tenga una función que regrese diccionarios con las siguientes reglas:\n",
        "- Las llaves son números entre 1 y n, donde n es el tamaño del diccionario.\n",
        "- Los valores son cadenas de texto aleatorias de tamaño m."
      ]
    },
    {
      "cell_type": "code",
      "metadata": {
        "id": "7Ibz9tD4ySj3"
      },
      "source": [
        "# genera cadenas aleatorias de tamaño m \n",
        "def palabrasRandom(m=10):\n",
        "  letras = string.ascii_letters\n",
        "  palabra = \"\".join([random.choice(letras) for _ in range(m)]) # <-- list comprehention\n",
        "  #for _ in range(m):\n",
        "    #palabra.join(random.choice(letras) )# <--- toma un valor aleatorio de una secuencia \n",
        "  \n",
        "  return palabra\n"
      ],
      "execution_count": null,
      "outputs": []
    },
    {
      "cell_type": "code",
      "metadata": {
        "id": "ieY0EV6P3qRD"
      },
      "source": [
        "def diccionarioPalabras(n=10, m= 10):\n",
        "  a = {}\n",
        "  '''for i in range(1, n+1):\n",
        "    a[i] = palabrasRandom(m)\n",
        "    #a.update({i:palabrasRandom(m)})\n",
        "\n",
        "  return a'''\n",
        "  return dict([(i+1, palabrasRandom(m)) for i in range(n)])"
      ],
      "execution_count": null,
      "outputs": []
    },
    {
      "cell_type": "code",
      "metadata": {
        "colab": {
          "base_uri": "https://localhost:8080/"
        },
        "id": "IdU6USz354jp",
        "outputId": "73689f7b-390b-4b8e-8857-65d31b8b4b51"
      },
      "source": [
        "# Ejemplo 1\n",
        "\n",
        "a = diccionarioPalabras(4, 10)\n",
        "print(a)\n",
        "\n",
        "# Ejemplo 2\n",
        "\n",
        "b = diccionarioPalabras(8, 5)\n",
        "print(b)\n",
        "\n",
        "# Ejemplo 3\n",
        "\n",
        "c = diccionarioPalabras(15, 8)\n",
        "print(c)"
      ],
      "execution_count": null,
      "outputs": [
        {
          "output_type": "stream",
          "text": [
            "{1: 'dONigwdPYf', 2: 'mfMXhjsaAc', 3: 'cLfABFqrer', 4: 'mMqhtWpjvV'}\n",
            "{1: 'SxCUM', 2: 'TLCrc', 3: 'FTKzl', 4: 'NGgRH', 5: 'dQnmE', 6: 'iYgnw', 7: 'AyASy', 8: 'rnPef'}\n",
            "{1: 'XxUAeqry', 2: 'VjsnLkMA', 3: 'GxtnYKmt', 4: 'EYwCTgeA', 5: 'HCPJVVAW', 6: 'WmviQITv', 7: 'dSMICjHy', 8: 'mNvsNNEJ', 9: 'REpDFtTj', 10: 'QAnuYBwv', 11: 'sTYogJbM', 12: 'lUfUaLes', 13: 'UYOgNOMy', 14: 'NOWZUJBQ', 15: 'ZpIGeWpo'}\n"
          ],
          "name": "stdout"
        }
      ]
    },
    {
      "cell_type": "markdown",
      "metadata": {
        "id": "oIJLqm6euAu7"
      },
      "source": [
        "## 2.\n",
        "\n",
        "Crea una función que, utilizando zip, reciba dos listas, y cree un diccionario con esas listas.\n"
      ]
    },
    {
      "cell_type": "code",
      "metadata": {
        "id": "lm4Tn-XpuJAM"
      },
      "source": [
        "def zip_function(a, b):\n",
        "  zipped = zip(a,b)\n",
        "  \n",
        "  zip_dict = dict(zipped)\n",
        "  return zip_dict\n"
      ],
      "execution_count": null,
      "outputs": []
    },
    {
      "cell_type": "code",
      "metadata": {
        "colab": {
          "base_uri": "https://localhost:8080/"
        },
        "id": "PIhuIYae8yvG",
        "outputId": "ba744be8-54b9-448c-ef8c-3ae6baeec166"
      },
      "source": [
        "#Ejemplo 1\n",
        "s1 = [2, 3, 1]\n",
        "s2 = ['b', 'a', 'c']\n",
        "print(zip_function(s1,s2))\n",
        "\n",
        "\n",
        "#Ejemplo 2\n",
        "numbers = [1, 2, 3]\n",
        "letters = ['a', 'b', 'c']\n",
        "print(zip_function(numbers, letters))\n",
        "\n",
        "\n",
        "#Ejemplo 3\n",
        "lista_1 = [random.choice(string.ascii_letters) for _ in range(5)]\n",
        "lista_2 = [random.choice(string.ascii_letters) for _ in range(5)]\n",
        "print(zip_function(lista_1, lista_2))\n"
      ],
      "execution_count": null,
      "outputs": [
        {
          "output_type": "stream",
          "text": [
            "{2: 'b', 3: 'a', 1: 'c'}\n",
            "{1: 'a', 2: 'b', 3: 'c'}\n",
            "{'E': 'v', 'n': 'P', 'g': 'V', 'L': 'x', 'F': 'l'}\n"
          ],
          "name": "stdout"
        }
      ]
    },
    {
      "cell_type": "markdown",
      "metadata": {
        "id": "cHFfD0IsyfoG"
      },
      "source": [
        "## 3. \n",
        "Escribe un programa que concatene diccionarios en uno nuevo. En caso de haber llaves repetidas, no actualices el valor de la llave, y solamente avisa que esa llave ya existe."
      ]
    },
    {
      "cell_type": "code",
      "metadata": {
        "colab": {
          "base_uri": "https://localhost:8080/"
        },
        "id": "RcjeSVUNxkqn",
        "outputId": "0dd3eb8e-97fe-4204-a407-148d5e5578bb"
      },
      "source": [
        "\n",
        "\n",
        "def con_dict(a, b): \n",
        "  dict_3 = {}\n",
        "  dict_3.update(a)\n",
        "\n",
        "  for key, value in b.items():\n",
        "      if key in dict_3.keys() : \n",
        "        print(f\" Ya existe la llave {key}, con el valor {value}\")\n",
        "      else:\n",
        "        dict_3[key] = value\n",
        "\n",
        "  return dict_3\n",
        "\n"
      ],
      "execution_count": null,
      "outputs": [
        {
          "output_type": "stream",
          "text": [
            " Ya existe la llave 3, con el valor 6\n",
            "{1: 5, 2: 2, 3: 5, 4: 5, 5: 7}\n"
          ],
          "name": "stdout"
        }
      ]
    },
    {
      "cell_type": "code",
      "metadata": {
        "id": "3JIz0b3VLNKe"
      },
      "source": [
        "# Ejemplo 1\n",
        "dict_1 = {1:5, 2:2, 3:5 }\n",
        "dict_2 = {4:5, 3:6, 5:7}\n",
        "print(con_dict(dict_1, dict_2))\n",
        "\n",
        "\n",
        "# Ejemplo 2"
      ],
      "execution_count": null,
      "outputs": []
    },
    {
      "cell_type": "markdown",
      "metadata": {
        "id": "Xc2fGhs9ytWs"
      },
      "source": [
        "## 4. \n",
        "Escribe una función que ordene, de manera ascendente, una lista con diccionarios en base a una de sus llaves."
      ]
    },
    {
      "cell_type": "code",
      "metadata": {
        "colab": {
          "base_uri": "https://localhost:8080/"
        },
        "id": "MkQrL2VpzL9c",
        "outputId": "386c4ff0-9a12-4831-8456-e812f983c4b6"
      },
      "source": [
        "'''\n",
        "## MIO \n",
        "def sort_dict(a):\n",
        "  items = a.items()\n",
        "  sorted_items = sorted(items)\n",
        "\n",
        "  return sorted_items\n",
        "\n",
        "\n",
        "# Ejemplo 1\n",
        "a_dictionary = {\"b\": 2, \"c\": 3, \"a\": 1}\n",
        "\n",
        "print(sort_dict(a_dictionary))\n",
        "\n",
        "# Ejemplo 2\n",
        "\n",
        "b = {\"c\":3, \"h\":5, \"b\":4}\n",
        "print(sort_dict(b))\n",
        "\n",
        "# #Ejemplo 3\n",
        "c = {\"b\": 2, \"c\": 3, \"a\": 1}\n",
        "d = {\"z\": 4, \"y\": 8, \"w\": 4}\n",
        "\n",
        "new_dic = {}\n",
        "new_dic.update(c)\n",
        "new_dic.update(d)\n",
        "\n",
        "sort_dict(new_dic)\n",
        "'''\n",
        "\n",
        "# Ejemplo 4\n",
        "\n",
        "def sort_dict(a):\n",
        "  print(sorted(a, key=lambda x: x[2]))\n",
        "\n",
        "\n",
        "\n",
        "lista_diccionarios = [{1:5, 2:2,3:5 }, {2:5, 3:6, 1:7}, {3:3, 2:1, 1:4}]\n",
        " \n",
        "sort_dict(lista_diccionarios)\n"
      ],
      "execution_count": null,
      "outputs": [
        {
          "output_type": "stream",
          "text": [
            "[{3: 3, 2: 1, 1: 4}, {1: 5, 2: 2, 3: 5}, {2: 5, 3: 6, 1: 7}]\n"
          ],
          "name": "stdout"
        }
      ]
    },
    {
      "cell_type": "markdown",
      "metadata": {
        "id": "QVeJzLixGT57"
      },
      "source": [
        "## 5. \n",
        "Escribe una función de números pares usando list comprehension."
      ]
    },
    {
      "cell_type": "code",
      "metadata": {
        "colab": {
          "base_uri": "https://localhost:8080/"
        },
        "id": "CUjBMZK8Ba9S",
        "outputId": "429e2daa-f4d0-408d-e7cb-55c078ca6b93"
      },
      "source": [
        "lista_pares =  []\n",
        "\n",
        "for _ in range(10):\n",
        "  numero = random.randint(1,100)\n",
        "\n",
        "  if numero % 2 == 0:\n",
        "    lista_pares.append(numero)\n",
        "\n",
        "print(lista_pares)"
      ],
      "execution_count": null,
      "outputs": [
        {
          "output_type": "stream",
          "text": [
            "[8, 82, 68, 42]\n"
          ],
          "name": "stdout"
        }
      ]
    },
    {
      "cell_type": "code",
      "metadata": {
        "colab": {
          "base_uri": "https://localhost:8080/",
          "height": 128
        },
        "id": "4WieVQnMG1aG",
        "outputId": "9615bda0-287d-4901-9823-f47861cac42c"
      },
      "source": [
        "\n",
        "\n",
        "lista = [temp for _ in range(10) if (temp := random.randint(1, 100)) % 2 == 0]\n",
        "\n",
        "\n",
        "print(lista)"
      ],
      "execution_count": 27,
      "outputs": [
        {
          "output_type": "error",
          "ename": "SyntaxError",
          "evalue": "ignored",
          "traceback": [
            "\u001b[0;36m  File \u001b[0;32m\"<ipython-input-27-f1cf50cb3fd3>\"\u001b[0;36m, line \u001b[0;32m3\u001b[0m\n\u001b[0;31m    lista = [temp for _ in range(10) if (temp := random.randint(1, 100)) % 2 == 0]\u001b[0m\n\u001b[0m                                              ^\u001b[0m\n\u001b[0;31mSyntaxError\u001b[0m\u001b[0;31m:\u001b[0m invalid syntax\n"
          ]
        }
      ]
    },
    {
      "cell_type": "markdown",
      "metadata": {
        "id": "ou0mxFSwLZ9k"
      },
      "source": [
        "## 6. \n",
        "Escribe una función que ordene de manera ascendente una lista que contiene tuplas de 2 numeros; considerando el segundo valor como el elemento para ordenar."
      ]
    },
    {
      "cell_type": "code",
      "metadata": {
        "id": "2GKdWWJdLd7P"
      },
      "source": [
        ""
      ],
      "execution_count": null,
      "outputs": []
    },
    {
      "cell_type": "markdown",
      "metadata": {
        "id": "9KOwi0YWLeWo"
      },
      "source": [
        "## 7. \n",
        "Escribe una función que revise una lista de cadenas de texto, y regrese una nueva lista con las cadenas que sean más largas que n."
      ]
    },
    {
      "cell_type": "code",
      "metadata": {
        "id": "gTAfoZodLh1C"
      },
      "source": [
        ""
      ],
      "execution_count": null,
      "outputs": []
    },
    {
      "cell_type": "markdown",
      "metadata": {
        "id": "wUNcLqM_L1G7"
      },
      "source": [
        "## 8.\n",
        "Escribe una función que regrese una lista de 3 dimensiones: w x h x d. Cada elemento dentro de la lista deberá de ser una tupla de la siguiente forma: (w, h, d)."
      ]
    },
    {
      "cell_type": "code",
      "metadata": {
        "id": "7Gnga0trL4G0"
      },
      "source": [
        ""
      ],
      "execution_count": null,
      "outputs": []
    },
    {
      "cell_type": "markdown",
      "metadata": {
        "id": "gF_doxK2L4c-"
      },
      "source": [
        "## 9. \n",
        "Escribe una función que revise una lista con tuplas, y quite todas las tuplas repetidas."
      ]
    },
    {
      "cell_type": "code",
      "metadata": {
        "id": "1C-sok8-L8K3"
      },
      "source": [
        ""
      ],
      "execution_count": null,
      "outputs": []
    },
    {
      "cell_type": "markdown",
      "metadata": {
        "id": "uvMOpYJOL8VR"
      },
      "source": [
        "## 10.\n",
        " Escribe una función que regrese una sublista de una lista. Solicita los valores n y m,  que indican la posición de inicio, y de fin, respectivamente, de los elementos de la lista original que estarán en la sublista. }"
      ]
    },
    {
      "cell_type": "code",
      "metadata": {
        "id": "eq67RKQoL_bU"
      },
      "source": [
        ""
      ],
      "execution_count": null,
      "outputs": []
    },
    {
      "cell_type": "markdown",
      "metadata": {
        "id": "-KMEDKuoL_kw"
      },
      "source": [
        "## 11. \n",
        "Crea dos clases: \n",
        " 1. Persona con nombre, apellido, y edad.\n",
        " 2. Estudiante, que tiene como clase padre a Persona, y que tiene además matrícula.\n",
        " 3. Agrega métodos a cada clase para imprimir la información del objeto."
      ]
    },
    {
      "cell_type": "code",
      "metadata": {
        "id": "7g42ZNVnMOy9",
        "colab": {
          "base_uri": "https://localhost:8080/"
        },
        "outputId": "a88b12e3-eab4-4415-c547-1cbd0e7eda0f"
      },
      "source": [
        "class Persona:\n",
        "  def __init__(self, fname, lname, age):\n",
        "    self.firstname = fname\n",
        "    self.lastname = lname\n",
        "    self.age = age\n",
        "\n",
        "  def printPersona(self):\n",
        "    print(self.firstname, self.lastname, self.age)\n",
        "\n",
        "class Estudiante(Persona):\n",
        "  def __init__(self, fname, lname, age, matricula):\n",
        "    super().__init__(fname, lname, age)\n",
        "    self.matricula = matricula\n",
        "  \n",
        "  def printEstudiante(self):\n",
        "    print(self.firstname, self.lastname, self.age, self.matricula)\n",
        "\n",
        "\n",
        "p1 = Persona(\"Isabel\", \"Maqueda\", \"23\")\n",
        "p1.printPersona()\n",
        "\n",
        "e1 = Estudiante(\"John\",\"Maqueda\", 36, \"A01652906\")\n",
        "\n",
        "e1.printEstudiante()"
      ],
      "execution_count": 26,
      "outputs": [
        {
          "output_type": "stream",
          "text": [
            "Isabel Maqueda 23\n",
            "John Maqueda 36 A01652906\n"
          ],
          "name": "stdout"
        }
      ]
    }
  ]
}